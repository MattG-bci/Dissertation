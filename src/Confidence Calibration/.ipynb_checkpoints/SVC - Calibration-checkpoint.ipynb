{
 "cells": [
  {
   "cell_type": "code",
   "execution_count": 5,
   "id": "f4a7ede2",
   "metadata": {},
   "outputs": [],
   "source": [
    "# Importing substantial libraries\n",
    "import os\n",
    "\n",
    "%matplotlib inline\n",
    "\n",
    "import torch\n",
    "import torch.nn as nn\n",
    "import numpy as np\n",
    "\n",
    "import random\n",
    "import matplotlib.pyplot as plt\n",
    "import pandas as pd\n",
    "from config import get_cfg_defaults\n",
    "\n",
    "from kale.utils.download import download_file_by_url\n",
    "from kale.loaddata.image_access import read_dicom_images\n",
    "from kale.interpret import visualize\n",
    "from kale.embed.mpca import MPCA\n",
    "\n",
    "from sklearn.model_selection import train_test_split\n",
    "import torchvision\n",
    "import torchvision.transforms as transforms\n",
    "import torch.nn.functional as F\n",
    "import matplotlib.lines as mlines\n",
    "import scipy.integrate as integrate\n",
    "\n",
    "from sklearn.svm import SVC\n",
    "from sklearn.model_selection import cross_validate\n",
    "from sklearn.metrics import brier_score_loss\n",
    "from sklearn.model_selection import GridSearchCV\n",
    "from sklearn.metrics import classification_report\n",
    "from sklearn.metrics import log_loss\n",
    "#from kale.pipeline.mpca_trainer import MPCATrainer\n",
    "from sklearn.calibration import CalibratedClassifierCV"
   ]
  },
  {
   "cell_type": "code",
   "execution_count": 6,
   "id": "07b8c218",
   "metadata": {},
   "outputs": [],
   "source": [
    "# =============================================================================\n",
    "# Author: Shuo Zhou, szhou20@sheffield.ac.uk\n",
    "#         Haiping Lu, h.lu@sheffield.ac.uk or hplu@ieee.org\n",
    "# =============================================================================\n",
    "\n",
    "\"\"\"Implementation of MPCA->Feature Selection->Linear SVM/LogisticRegression Pipeline\n",
    "\n",
    "References:\n",
    "    [1] Swift, A. J., Lu, H., Uthoff, J., Garg, P., Cogliano, M., Taylor, J., ... & Kiely, D. G. (2020). A machine\n",
    "    learning cardiac magnetic resonance approach to extract disease features and automate pulmonary arterial\n",
    "    hypertension diagnosis. European Heart Journal-Cardiovascular Imaging.\n",
    "    [2] Song, X., Meng, L., Shi, Q., & Lu, H. (2015, October). Learning tensor-based features for whole-brain fMRI\n",
    "    classification. In International Conference on Medical Image Computing and Computer-Assisted Intervention\n",
    "    (pp. 613-620). Springer, Cham.\n",
    "    [3] Lu, H., Plataniotis, K. N., & Venetsanopoulos, A. N. (2008). MPCA: Multilinear principal component analysis of\n",
    "    tensor objects. IEEE Transactions on Neural Networks, 19(1), 18-39.\n",
    "\"\"\"\n",
    "\n",
    "import logging\n",
    "\n",
    "import numpy as np\n",
    "from sklearn.base import BaseEstimator, ClassifierMixin\n",
    "from sklearn.feature_selection import f_classif\n",
    "from sklearn.linear_model import LogisticRegression\n",
    "from sklearn.model_selection import GridSearchCV\n",
    "from sklearn.svm import LinearSVC, SVC\n",
    "from sklearn.utils.validation import check_is_fitted\n",
    "\n",
    "\n",
    "\n",
    "param_c_grids = list(np.logspace(-4, 2, 7))\n",
    "classifiers = {\n",
    "    \"svc\": [SVC, {\"kernel\": [\"linear\"], \"C\": param_c_grids}],\n",
    "    \"linear_svc\": [LinearSVC, {\"C\": param_c_grids}],\n",
    "    \"lr\": [LogisticRegression, {\"C\": param_c_grids}],\n",
    "}\n",
    "\n",
    "# k-fold cross validation used for grid search, i.e. searching for optimal value of C\n",
    "default_search_params = {\"cv\": 5}\n",
    "default_mpca_params = {\"var_ratio\": 0.97, \"return_vector\": True}\n",
    "\n",
    "\n",
    "class MPCATrainer(BaseEstimator, ClassifierMixin):\n",
    "    def __init__(\n",
    "        self, classifier=\"svc\", classifier_params=\"auto\", mpca_params=None, n_features=None, search_params=None\n",
    "    ):\n",
    "        \"\"\"Trainer of pipeline: MPCA->Feature selection->Classifier\n",
    "\n",
    "        Args:\n",
    "            classifier (str, optional): Available classifier options: {\"svc\", \"linear_svc\", \"lr\"}, where \"svc\" trains a\n",
    "                support vector classifier, supports both linear and non-linear kernels, optimizes with library \"libsvm\";\n",
    "                \"linear_svc\" trains a support vector classifier with linear kernel only, and optimizes with library\n",
    "                \"liblinear\", which suppose to be faster and better in handling large number of samples; and \"lr\" trains\n",
    "                a classifier with logistic regression. Defaults to \"svc\".\n",
    "            classifier_params (dict, optional): Parameters of classifier. Defaults to 'auto'.\n",
    "            mpca_params (dict, optional): Parameters of MPCA. Defaults to None.\n",
    "            n_features (int, optional): Number of features for feature selection. Defaults to None, i.e. all features\n",
    "                after dimension reduction will be used.\n",
    "            search_params (dict, optional): Parameters of grid search. Defaults to None.\n",
    "\n",
    "        \"\"\"\n",
    "        if classifier not in [\"svc\", \"linear_svc\", \"lr\"]:\n",
    "            error_msg = \"Valid classifier should be 'svc', 'linear_svc', or 'lr', but given %s\" % classifier\n",
    "            logging.error(error_msg)\n",
    "            raise ValueError(error_msg)\n",
    "\n",
    "        self.classifier = classifier\n",
    "        # init mpca object\n",
    "        if mpca_params is None:\n",
    "            self.mpca_params = default_mpca_params\n",
    "        else:\n",
    "            self.mpca_params = mpca_params\n",
    "        self.mpca = MPCA(**self.mpca_params)\n",
    "        # init feature selection parameters\n",
    "        self.n_features = n_features\n",
    "        self.feature_order = None\n",
    "        # init classifier object\n",
    "        if search_params is None:\n",
    "            self.search_params = default_search_params\n",
    "        else:\n",
    "            self.search_params = search_params\n",
    "\n",
    "        self.auto_classifier_param = False\n",
    "        if classifier_params == \"auto\":\n",
    "            self.auto_classifier_param = True\n",
    "            clf_param_grid = classifiers[classifier][1]\n",
    "            self.grid_search = GridSearchCV(\n",
    "                classifiers[classifier][0](), param_grid=clf_param_grid, **self.search_params\n",
    "            )\n",
    "            self.clf = None\n",
    "        elif isinstance(classifier_params, dict):\n",
    "            self.clf = classifiers[classifier][0](**classifier_params)\n",
    "        else:\n",
    "            error_msg = \"Invalid classifier parameter type\"\n",
    "            logging.error(error_msg)\n",
    "            raise ValueError(error_msg)\n",
    "\n",
    "        self.classifier_params = classifier_params\n",
    "\n",
    "    def fit(self, x, y):\n",
    "        \"\"\"Fit a pipeline with the given data x and labels y\n",
    "\n",
    "        Args:\n",
    "            x (array-like tensor): input data, shape (n_samples, I_1, I_2, ..., I_N)\n",
    "            y (array-like): data labels, shape (n_samples, )\n",
    "\n",
    "        Returns:\n",
    "            self\n",
    "        \"\"\"\n",
    "        # fit mpca\n",
    "        self.mpca.fit(x)\n",
    "        self.mpca.set_params(**{\"return_vector\": True})\n",
    "        self.x_transformed = self.mpca.transform(x)\n",
    "\n",
    "        # feature selection\n",
    "        if self.n_features is None:\n",
    "            self.n_features = self.x_transformed.shape[1]\n",
    "            self.feature_order = self.mpca.idx_order\n",
    "        else:\n",
    "            f_score, p_val = f_classif(self.x_transformed, y)\n",
    "            self.feature_order = (-1 * f_score).argsort()\n",
    "        self.x_transformed = self.x_transformed[:, self.feature_order][:, : self.n_features]\n",
    "\n",
    "        # fit classifier\n",
    "        if self.auto_classifier_param:\n",
    "            self.grid_search.param_grid[\"C\"].append(1 / x.shape[0])\n",
    "            self.grid_search.fit(self.x_transformed, y)\n",
    "            self.clf = self.grid_search.best_estimator_\n",
    "        if self.classifier == \"svc\":\n",
    "            self.clf.set_params(**{\"probability\": True})\n",
    "\n",
    "        self.clf.fit(self.x_transformed, y)\n",
    "\n",
    "    def predict(self, x):\n",
    "        \"\"\"Predict the labels for the given data x\n",
    "\n",
    "        Args:\n",
    "            x (array-like tensor): input data, shape (n_samples, I_1, I_2, ..., I_N)\n",
    "\n",
    "        Returns:\n",
    "            array-like: Predicted labels, shape (n_samples, )\n",
    "        \"\"\"\n",
    "        return self.clf.predict(self._extract_feature(x))\n",
    "\n",
    "    def decision_function(self, x):\n",
    "        \"\"\"Decision scores of each class for the given data x\n",
    "\n",
    "        Args:\n",
    "            x (array-like tensor): input data, shape (n_samples, I_1, I_2, ..., I_N)\n",
    "\n",
    "        Returns:\n",
    "            array-like: decision scores, shape (n_samples,) for binary case, else (n_samples, n_class)\n",
    "        \"\"\"\n",
    "        return self.clf.decision_function(self._extract_feature(x))\n",
    "\n",
    "    def predict_proba(self, x):\n",
    "        \"\"\"Probability of each class for the given data x. Not supported by \"linear_svc\".\n",
    "\n",
    "        Args:\n",
    "            x (array-like tensor): input data, shape (n_samples, I_1, I_2, ..., I_N)\n",
    "\n",
    "        Returns:\n",
    "            array-like: probabilities, shape (n_samples, n_class)\n",
    "        \"\"\"\n",
    "        if self.classifier == \"linear_svc\":\n",
    "            error_msg = \"Linear SVC does not support computing probability.\"\n",
    "            logging.error(error_msg)\n",
    "            raise ValueError(error_msg)\n",
    "        return self.clf.predict_proba(self._extract_feature(x))\n",
    "\n",
    "    def _extract_feature(self, x):\n",
    "        \"\"\"Extracting features for the given data x with MPCA->Feature selection\n",
    "\n",
    "        Args:\n",
    "            x (array-like tensor): input data, shape (n_samples, I_1, I_2, ..., I_N)\n",
    "\n",
    "        Returns:\n",
    "            array-like: n_new, shape (n_samples, n_features)\n",
    "        \"\"\"\n",
    "        check_is_fitted(self.clf)\n",
    "        self.x_transformed = self.mpca.transform(x)\n",
    "\n",
    "        return self.x_transformed[:, self.feature_order][:, : self.n_features]"
   ]
  },
  {
   "cell_type": "code",
   "execution_count": 9,
   "id": "8d68cb9f",
   "metadata": {},
   "outputs": [
    {
     "ename": "KeyError",
     "evalue": "'Non-existent config key: DAN'",
     "output_type": "error",
     "traceback": [
      "\u001b[0;31m---------------------------------------------------------------------------\u001b[0m",
      "\u001b[0;31mKeyError\u001b[0m                                  Traceback (most recent call last)",
      "\u001b[0;32m<ipython-input-9-18a2a9bc2687>\u001b[0m in \u001b[0;36m<module>\u001b[0;34m\u001b[0m\n\u001b[1;32m      2\u001b[0m \u001b[0;34m\u001b[0m\u001b[0m\n\u001b[1;32m      3\u001b[0m \u001b[0mcfg\u001b[0m \u001b[0;34m=\u001b[0m \u001b[0mget_cfg_defaults\u001b[0m\u001b[0;34m(\u001b[0m\u001b[0;34m)\u001b[0m\u001b[0;34m\u001b[0m\u001b[0;34m\u001b[0m\u001b[0m\n\u001b[0;32m----> 4\u001b[0;31m \u001b[0mcfg\u001b[0m\u001b[0;34m.\u001b[0m\u001b[0mmerge_from_file\u001b[0m\u001b[0;34m(\u001b[0m\u001b[0mcfg_path\u001b[0m\u001b[0;34m)\u001b[0m\u001b[0;34m\u001b[0m\u001b[0;34m\u001b[0m\u001b[0m\n\u001b[0m\u001b[1;32m      5\u001b[0m \u001b[0mcfg\u001b[0m\u001b[0;34m.\u001b[0m\u001b[0mfreeze\u001b[0m\u001b[0;34m(\u001b[0m\u001b[0;34m)\u001b[0m\u001b[0;34m\u001b[0m\u001b[0;34m\u001b[0m\u001b[0m\n\u001b[1;32m      6\u001b[0m \u001b[0mprint\u001b[0m\u001b[0;34m(\u001b[0m\u001b[0mcfg\u001b[0m\u001b[0;34m)\u001b[0m\u001b[0;34m\u001b[0m\u001b[0;34m\u001b[0m\u001b[0m\n",
      "\u001b[0;32m/opt/anaconda3/lib/python3.8/site-packages/yacs/config.py\u001b[0m in \u001b[0;36mmerge_from_file\u001b[0;34m(self, cfg_filename)\u001b[0m\n\u001b[1;32m    211\u001b[0m         \u001b[0;32mwith\u001b[0m \u001b[0mopen\u001b[0m\u001b[0;34m(\u001b[0m\u001b[0mcfg_filename\u001b[0m\u001b[0;34m,\u001b[0m \u001b[0;34m\"r\"\u001b[0m\u001b[0;34m)\u001b[0m \u001b[0;32mas\u001b[0m \u001b[0mf\u001b[0m\u001b[0;34m:\u001b[0m\u001b[0;34m\u001b[0m\u001b[0;34m\u001b[0m\u001b[0m\n\u001b[1;32m    212\u001b[0m             \u001b[0mcfg\u001b[0m \u001b[0;34m=\u001b[0m \u001b[0mself\u001b[0m\u001b[0;34m.\u001b[0m\u001b[0mload_cfg\u001b[0m\u001b[0;34m(\u001b[0m\u001b[0mf\u001b[0m\u001b[0;34m)\u001b[0m\u001b[0;34m\u001b[0m\u001b[0;34m\u001b[0m\u001b[0m\n\u001b[0;32m--> 213\u001b[0;31m         \u001b[0mself\u001b[0m\u001b[0;34m.\u001b[0m\u001b[0mmerge_from_other_cfg\u001b[0m\u001b[0;34m(\u001b[0m\u001b[0mcfg\u001b[0m\u001b[0;34m)\u001b[0m\u001b[0;34m\u001b[0m\u001b[0;34m\u001b[0m\u001b[0m\n\u001b[0m\u001b[1;32m    214\u001b[0m \u001b[0;34m\u001b[0m\u001b[0m\n\u001b[1;32m    215\u001b[0m     \u001b[0;32mdef\u001b[0m \u001b[0mmerge_from_other_cfg\u001b[0m\u001b[0;34m(\u001b[0m\u001b[0mself\u001b[0m\u001b[0;34m,\u001b[0m \u001b[0mcfg_other\u001b[0m\u001b[0;34m)\u001b[0m\u001b[0;34m:\u001b[0m\u001b[0;34m\u001b[0m\u001b[0;34m\u001b[0m\u001b[0m\n",
      "\u001b[0;32m/opt/anaconda3/lib/python3.8/site-packages/yacs/config.py\u001b[0m in \u001b[0;36mmerge_from_other_cfg\u001b[0;34m(self, cfg_other)\u001b[0m\n\u001b[1;32m    215\u001b[0m     \u001b[0;32mdef\u001b[0m \u001b[0mmerge_from_other_cfg\u001b[0m\u001b[0;34m(\u001b[0m\u001b[0mself\u001b[0m\u001b[0;34m,\u001b[0m \u001b[0mcfg_other\u001b[0m\u001b[0;34m)\u001b[0m\u001b[0;34m:\u001b[0m\u001b[0;34m\u001b[0m\u001b[0;34m\u001b[0m\u001b[0m\n\u001b[1;32m    216\u001b[0m         \u001b[0;34m\"\"\"Merge `cfg_other` into this CfgNode.\"\"\"\u001b[0m\u001b[0;34m\u001b[0m\u001b[0;34m\u001b[0m\u001b[0m\n\u001b[0;32m--> 217\u001b[0;31m         \u001b[0m_merge_a_into_b\u001b[0m\u001b[0;34m(\u001b[0m\u001b[0mcfg_other\u001b[0m\u001b[0;34m,\u001b[0m \u001b[0mself\u001b[0m\u001b[0;34m,\u001b[0m \u001b[0mself\u001b[0m\u001b[0;34m,\u001b[0m \u001b[0;34m[\u001b[0m\u001b[0;34m]\u001b[0m\u001b[0;34m)\u001b[0m\u001b[0;34m\u001b[0m\u001b[0;34m\u001b[0m\u001b[0m\n\u001b[0m\u001b[1;32m    218\u001b[0m \u001b[0;34m\u001b[0m\u001b[0m\n\u001b[1;32m    219\u001b[0m     \u001b[0;32mdef\u001b[0m \u001b[0mmerge_from_list\u001b[0m\u001b[0;34m(\u001b[0m\u001b[0mself\u001b[0m\u001b[0;34m,\u001b[0m \u001b[0mcfg_list\u001b[0m\u001b[0;34m)\u001b[0m\u001b[0;34m:\u001b[0m\u001b[0;34m\u001b[0m\u001b[0;34m\u001b[0m\u001b[0m\n",
      "\u001b[0;32m/opt/anaconda3/lib/python3.8/site-packages/yacs/config.py\u001b[0m in \u001b[0;36m_merge_a_into_b\u001b[0;34m(a, b, root, key_list)\u001b[0m\n\u001b[1;32m    489\u001b[0m                 \u001b[0mroot\u001b[0m\u001b[0;34m.\u001b[0m\u001b[0mraise_key_rename_error\u001b[0m\u001b[0;34m(\u001b[0m\u001b[0mfull_key\u001b[0m\u001b[0;34m)\u001b[0m\u001b[0;34m\u001b[0m\u001b[0;34m\u001b[0m\u001b[0m\n\u001b[1;32m    490\u001b[0m             \u001b[0;32melse\u001b[0m\u001b[0;34m:\u001b[0m\u001b[0;34m\u001b[0m\u001b[0;34m\u001b[0m\u001b[0m\n\u001b[0;32m--> 491\u001b[0;31m                 \u001b[0;32mraise\u001b[0m \u001b[0mKeyError\u001b[0m\u001b[0;34m(\u001b[0m\u001b[0;34m\"Non-existent config key: {}\"\u001b[0m\u001b[0;34m.\u001b[0m\u001b[0mformat\u001b[0m\u001b[0;34m(\u001b[0m\u001b[0mfull_key\u001b[0m\u001b[0;34m)\u001b[0m\u001b[0;34m)\u001b[0m\u001b[0;34m\u001b[0m\u001b[0;34m\u001b[0m\u001b[0m\n\u001b[0m\u001b[1;32m    492\u001b[0m \u001b[0;34m\u001b[0m\u001b[0m\n\u001b[1;32m    493\u001b[0m \u001b[0;34m\u001b[0m\u001b[0m\n",
      "\u001b[0;31mKeyError\u001b[0m: 'Non-existent config key: DAN'"
     ]
    }
   ],
   "source": [
    "cfg_path = \"pykale/examples/cmri_mpca/configs/tutorial_svc.yaml\" # Path to `.yaml` config file\n",
    "\n",
    "cfg = get_cfg_defaults()\n",
    "cfg.merge_from_file(cfg_path)\n",
    "cfg.freeze()\n",
    "print(cfg)"
   ]
  },
  {
   "cell_type": "code",
   "execution_count": null,
   "id": "12afa7aa",
   "metadata": {},
   "outputs": [],
   "source": [
    "base_dir = cfg.DATASET.BASE_DIR\n",
    "file_format = cfg.DATASET.FILE_FORAMT\n",
    "download_file_by_url(cfg.DATASET.SOURCE, cfg.DATASET.ROOT, \"%s.%s\" % (base_dir, file_format), file_format)"
   ]
  },
  {
   "cell_type": "code",
   "execution_count": null,
   "id": "832df72e",
   "metadata": {},
   "outputs": [],
   "source": [
    "img_path = os.path.join(cfg.DATASET.ROOT, base_dir, cfg.DATASET.IMG_DIR)\n",
    "images = read_dicom_images(img_path, sort_instance=True, sort_patient=True)\n",
    "\n",
    "mask_path = os.path.join(cfg.DATASET.ROOT, base_dir, cfg.DATASET.MASK_DIR)\n",
    "mask = read_dicom_images(mask_path, sort_instance=True)"
   ]
  },
  {
   "cell_type": "code",
   "execution_count": null,
   "id": "3f5b9c78",
   "metadata": {},
   "outputs": [],
   "source": [
    "# Plotting all images from a random subject\n",
    "i = random.randint(0, 178)\n",
    "\n",
    "fig = plt.figure(figsize=(15,15))\n",
    "for j in range(1,21):\n",
    "    fig.add_subplot(4,5, j)\n",
    "    plt.imshow(images[i][j-1], cmap=\"gray\")\n",
    "\n"
   ]
  },
  {
   "cell_type": "code",
   "execution_count": null,
   "id": "7ca4e54e",
   "metadata": {},
   "outputs": [],
   "source": [
    "fig = plt.figure(figsize=(3,3))\n",
    "plt.imshow(images[0][0], cmap='gray')\n",
    "plt.savefig('image_org', format='jpg')"
   ]
  },
  {
   "cell_type": "code",
   "execution_count": null,
   "id": "e178c78a",
   "metadata": {},
   "outputs": [],
   "source": [
    "images.shape # (179, 20, 64, 64)"
   ]
  },
  {
   "cell_type": "code",
   "execution_count": null,
   "id": "824ab35d",
   "metadata": {},
   "outputs": [],
   "source": [
    "landmark_path = os.path.join(cfg.DATASET.ROOT, base_dir, cfg.DATASET.LANDMARK_FILE)\n",
    "landmark_df = pd.read_csv(landmark_path, index_col=\"Subject\")  # read .csv file as dataframe\n",
    "landmarks = landmark_df.iloc[:, :6].values\n",
    "y = landmark_df[\"Group\"].values\n",
    "y[np.where(y != 0)] = 1 "
   ]
  },
  {
   "cell_type": "code",
   "execution_count": null,
   "id": "24ef4421",
   "metadata": {},
   "outputs": [],
   "source": [
    "#visualisation with landmarks\n",
    "\n",
    "visualize.plot_multi_images(\n",
    "    images[:, 0, ...], marker_locs=landmarks, im_kwargs=dict(cfg.IM_KWARGS), marker_kwargs=dict(cfg.MARKER_KWARGS)\n",
    ").show()"
   ]
  },
  {
   "cell_type": "code",
   "execution_count": null,
   "id": "7dd1f0b8",
   "metadata": {},
   "outputs": [],
   "source": [
    "from kale.prepdata.image_transform import mask_img_stack, normalize_img_stack, reg_img_stack, rescale_img_stack"
   ]
  },
  {
   "cell_type": "code",
   "execution_count": null,
   "id": "7f86e452",
   "metadata": {},
   "outputs": [],
   "source": [
    "img_reg, max_dist = reg_img_stack(images.copy(), landmarks)"
   ]
  },
  {
   "cell_type": "code",
   "execution_count": null,
   "id": "b5717d2e",
   "metadata": {},
   "outputs": [],
   "source": [
    "#Masking\n",
    "img_masked = mask_img_stack(img_reg.copy(), mask[0, 0, ...])"
   ]
  },
  {
   "cell_type": "code",
   "execution_count": null,
   "id": "487f1ed3",
   "metadata": {},
   "outputs": [],
   "source": [
    "#Plotting masked images\n",
    "i = random.randint(0, 178)\n",
    "\n",
    "fig = plt.figure(figsize=(15,15))\n",
    "for j in range(1,21):\n",
    "    fig.add_subplot(4,5, j)\n",
    "    plt.imshow(img_masked[i][j-1], cmap=\"gray\")"
   ]
  },
  {
   "cell_type": "code",
   "execution_count": null,
   "id": "4f763e17",
   "metadata": {},
   "outputs": [],
   "source": [
    "fig = plt.figure(figsize=(3,3))\n",
    "plt.imshow(img_masked[0][0], cmap='gray')\n",
    "plt.savefig('image_masked', format='jpg')"
   ]
  },
  {
   "cell_type": "code",
   "execution_count": null,
   "id": "9afc5001",
   "metadata": {},
   "outputs": [],
   "source": [
    "img_rescaled = rescale_img_stack(img_masked.copy(), scale=1 / 2)"
   ]
  },
  {
   "cell_type": "code",
   "execution_count": null,
   "id": "09da4b73",
   "metadata": {},
   "outputs": [],
   "source": [
    "fig = plt.figure(figsize=(3,3))\n",
    "plt.imshow(img_rescaled[0][0], cmap='gray')\n",
    "plt.savefig('image_rescaled', format='jpg')"
   ]
  },
  {
   "cell_type": "code",
   "execution_count": null,
   "id": "90f9b304",
   "metadata": {},
   "outputs": [],
   "source": [
    "img_rescaled.shape # (179, 20, 32, 32) -> rescaling would not be necessary for Deep Learning model"
   ]
  },
  {
   "cell_type": "code",
   "execution_count": null,
   "id": "3e5f9561",
   "metadata": {},
   "outputs": [],
   "source": [
    "img_norm = normalize_img_stack(img_rescaled.copy())"
   ]
  },
  {
   "cell_type": "code",
   "execution_count": null,
   "id": "2b4db80d",
   "metadata": {},
   "outputs": [],
   "source": [
    "fig = plt.figure(figsize=(3,3))\n",
    "plt.imshow(img_norm[0][0], cmap='gray')\n",
    "plt.savefig('image_norm', format='jpg')"
   ]
  },
  {
   "cell_type": "code",
   "execution_count": null,
   "id": "1484a63d",
   "metadata": {},
   "outputs": [],
   "source": [
    "img_norm.shape"
   ]
  },
  {
   "cell_type": "code",
   "execution_count": null,
   "id": "98e3f6a1",
   "metadata": {},
   "outputs": [],
   "source": [
    "# Training\n",
    "\n",
    "x = img_norm.copy() # creating copy to avoid modifying original images due to the pointer nature\n",
    "trainer = MPCATrainer(classifier='svc', n_features=200)\n",
    "cv_results = cross_validate(trainer, x, y, cv=10, scoring=[\"accuracy\", \"roc_auc\"], n_jobs=1)"
   ]
  },
  {
   "cell_type": "code",
   "execution_count": null,
   "id": "51eab3dd",
   "metadata": {},
   "outputs": [],
   "source": [
    "cv_results"
   ]
  },
  {
   "cell_type": "code",
   "execution_count": null,
   "id": "06787906",
   "metadata": {
    "scrolled": true
   },
   "outputs": [],
   "source": [
    "print(f\"Averaged test accuracy: {cv_results['test_accuracy'].mean()}\")\n",
    "print(f\"Averaged test area under ROC curve: {cv_results['test_roc_auc'].mean()}\")"
   ]
  },
  {
   "cell_type": "code",
   "execution_count": null,
   "id": "79f161d1",
   "metadata": {},
   "outputs": [],
   "source": [
    "from sklearn.metrics import roc_curve, auc\n",
    "from sklearn.model_selection import KFold\n",
    "from sklearn.calibration import calibration_curve"
   ]
  },
  {
   "cell_type": "code",
   "execution_count": null,
   "id": "5834bfb4",
   "metadata": {},
   "outputs": [],
   "source": []
  },
  {
   "cell_type": "code",
   "execution_count": null,
   "id": "092693ec",
   "metadata": {},
   "outputs": [],
   "source": [
    "z = img_norm\n",
    "mpca = MPCA(var_ratio=0.97)"
   ]
  },
  {
   "cell_type": "code",
   "execution_count": null,
   "id": "dc5e7215",
   "metadata": {},
   "outputs": [],
   "source": [
    "z_projected = mpca.fit_transform(z)"
   ]
  },
  {
   "cell_type": "code",
   "execution_count": null,
   "id": "779ad211",
   "metadata": {},
   "outputs": [],
   "source": [
    "z_projected = mpca.transform(z)"
   ]
  },
  {
   "cell_type": "code",
   "execution_count": null,
   "id": "780bfd1a",
   "metadata": {},
   "outputs": [],
   "source": [
    "z_projected.shape"
   ]
  },
  {
   "cell_type": "code",
   "execution_count": null,
   "id": "a5349e19",
   "metadata": {},
   "outputs": [],
   "source": [
    "img_mpca = mpca.transform(z)\n",
    "plt.imshow(img_mpca[0][0], cmap=\"gray\")\n"
   ]
  },
  {
   "cell_type": "code",
   "execution_count": null,
   "id": "579b53ef",
   "metadata": {},
   "outputs": [],
   "source": [
    "clf = SVC(probability=True, gamma='auto')\n",
    "clf.get_params().keys()"
   ]
  },
  {
   "cell_type": "code",
   "execution_count": null,
   "id": "d7398a5e",
   "metadata": {},
   "outputs": [],
   "source": [
    "nsamples, nbatches, nx, ny = img_mpca.shape\n",
    "img_mpca.shape"
   ]
  },
  {
   "cell_type": "code",
   "execution_count": null,
   "id": "0c9e26bf",
   "metadata": {},
   "outputs": [],
   "source": [
    "d2_img_mpca = np.reshape(img_mpca, (nsamples, -1))\n",
    "y.shape"
   ]
  },
  {
   "cell_type": "code",
   "execution_count": null,
   "id": "6657f39c",
   "metadata": {},
   "outputs": [],
   "source": [
    "X_train, X_test, y_train, y_test = train_test_split(d2_img_mpca, y, test_size=0.2)\n",
    "params = {'kernel': ('linear', 'rbf'), 'C':[1, 10, 20]}\n",
    "grd = GridSearchCV(clf, params, scoring='roc_auc', cv=10)\n",
    "grd.fit(X_train, y_train)\n",
    "\n",
    "clf = SVC(probability=True, gamma='auto', kernel='linear', C=1)"
   ]
  },
  {
   "cell_type": "code",
   "execution_count": null,
   "id": "b33e4b84",
   "metadata": {},
   "outputs": [],
   "source": [
    "pd.DataFrame(grd.cv_results_)"
   ]
  },
  {
   "cell_type": "code",
   "execution_count": null,
   "id": "185d71e4",
   "metadata": {},
   "outputs": [],
   "source": [
    "#cv_results = KFold(n_splits=10, shuffle=True, )\n",
    "clf.fit(X_train, y_train)\n",
    "y_hat = clf.predict(X_test)\n",
    "y_hat"
   ]
  },
  {
   "cell_type": "code",
   "execution_count": null,
   "id": "6931e409",
   "metadata": {},
   "outputs": [],
   "source": [
    "\n",
    "fpr, tpr, thresholds = roc_curve(y_test, y_hat, pos_label=1)\n",
    "roc_auc = auc(fpr, tpr)\n",
    "plt.figure()\n",
    "lw=2\n",
    "plt.plot(fpr, tpr, color='darkorange', lw=lw, label='ROC curve (area ={0:.2f})'.format(roc_auc))\n",
    "plt.plot([0, 1], [0, 1], color='navy', lw=lw, linestyle='--')\n",
    "plt.xlim([0.0, 1.0])\n",
    "plt.ylim([0.0, 1.05])\n",
    "plt.xlabel('False Positive Rate')\n",
    "plt.ylabel('True Positive Rate')\n",
    "plt.title('Receiver operating characteristic example')\n",
    "plt.legend(loc=\"lower right\")\n",
    "plt.show()"
   ]
  },
  {
   "cell_type": "code",
   "execution_count": null,
   "id": "3a61df56",
   "metadata": {},
   "outputs": [],
   "source": [
    "# plotting calibration curve\n",
    "y_probs = clf.predict_proba(X_test)[:,1]\n",
    "prob_true, prob_pred = calibration_curve(y_test, y_probs, n_bins=10, normalize=True)"
   ]
  },
  {
   "cell_type": "code",
   "execution_count": null,
   "id": "ea6ebf46",
   "metadata": {},
   "outputs": [],
   "source": [
    "prob_pred"
   ]
  },
  {
   "cell_type": "code",
   "execution_count": null,
   "id": "a2a6988c",
   "metadata": {},
   "outputs": [],
   "source": [
    "prob_true"
   ]
  },
  {
   "cell_type": "code",
   "execution_count": null,
   "id": "e416e786",
   "metadata": {},
   "outputs": [],
   "source": [
    "fig, ax = plt.subplots()\n",
    "plt.plot(prob_pred, prob_true)\n",
    "line = mlines.Line2D([0, 1], [0, 1], color='black')\n",
    "ax.add_line(line)\n",
    "ax.set_xlabel(\"Probability of positives\")\n",
    "ax.set_ylabel(\"Fraction of positives\")\n",
    "fig.suptitle(\"Calibration curve for SVC for cMRI classification\")"
   ]
  },
  {
   "cell_type": "code",
   "execution_count": null,
   "id": "40afc86e",
   "metadata": {},
   "outputs": [],
   "source": [
    "uncalibrated_report = classification_report(y_test, y_hat)\n",
    "print(uncalibrated_report)"
   ]
  },
  {
   "cell_type": "code",
   "execution_count": null,
   "id": "a6f8999b",
   "metadata": {},
   "outputs": [],
   "source": [
    "brier_score_loss(y_test, y_probs)"
   ]
  },
  {
   "cell_type": "code",
   "execution_count": null,
   "id": "8ae55c58",
   "metadata": {},
   "outputs": [],
   "source": [
    "log_loss(y_test, y_probs)"
   ]
  },
  {
   "cell_type": "code",
   "execution_count": null,
   "id": "32bc2988",
   "metadata": {},
   "outputs": [],
   "source": [
    "from sklearn.metrics import balanced_accuracy_score"
   ]
  },
  {
   "cell_type": "code",
   "execution_count": null,
   "id": "84664cc7",
   "metadata": {},
   "outputs": [],
   "source": [
    "balanced_accuracy_score(y_test, y_hat)"
   ]
  },
  {
   "cell_type": "code",
   "execution_count": null,
   "id": "2abe8486",
   "metadata": {},
   "outputs": [],
   "source": [
    "# calibrating the classifier\n",
    "from sklearn.calibration import CalibratedClassifierCV\n",
    "clf = SVC(probability=True, gamma='auto', kernel='linear', C=1)"
   ]
  },
  {
   "cell_type": "code",
   "execution_count": null,
   "id": "acc409c5",
   "metadata": {},
   "outputs": [],
   "source": [
    "calibrated_clf = CalibratedClassifierCV(base_estimator=clf, cv=10, method=\"sigmoid\")"
   ]
  },
  {
   "cell_type": "code",
   "execution_count": null,
   "id": "3622ba16",
   "metadata": {},
   "outputs": [],
   "source": [
    "calibrated_clf.fit(X_train, y_train)"
   ]
  },
  {
   "cell_type": "code",
   "execution_count": null,
   "id": "1655ad9b",
   "metadata": {},
   "outputs": [],
   "source": [
    "X_train.shape"
   ]
  },
  {
   "cell_type": "code",
   "execution_count": null,
   "id": "cc68dbf8",
   "metadata": {},
   "outputs": [],
   "source": [
    "y_hat_calb = calibrated_clf.predict(X_test)\n",
    "y_probs_calb = calibrated_clf.predict_proba(X_test)[:,1]\n",
    "prob_true, prob_pred = calibration_curve(y_test, y_probs, n_bins=10, normalize=True)"
   ]
  },
  {
   "cell_type": "code",
   "execution_count": null,
   "id": "6822d23b",
   "metadata": {},
   "outputs": [],
   "source": [
    "fig, ax = plt.subplots()\n",
    "plt.plot(prob_pred, prob_true)\n",
    "line = mlines.Line2D([0, 1], [0, 1], color='black')\n",
    "ax.add_line(line)\n",
    "ax.set_xlabel(\"Probability of positives\")\n",
    "ax.set_ylabel(\"Fraction of positives\")\n",
    "fig.suptitle(\"Calibration curve for Calibrated SVC for cMRI classification (Platt scaling method)\")"
   ]
  },
  {
   "cell_type": "code",
   "execution_count": null,
   "id": "25f2d4a1",
   "metadata": {},
   "outputs": [],
   "source": [
    "unique, counts = np.unique(y_train, return_counts=True)"
   ]
  },
  {
   "cell_type": "code",
   "execution_count": null,
   "id": "906ba0bb",
   "metadata": {},
   "outputs": [],
   "source": [
    "counts[0]/(counts[0] + counts[1])"
   ]
  },
  {
   "cell_type": "code",
   "execution_count": null,
   "id": "98a8ad3e",
   "metadata": {},
   "outputs": [],
   "source": [
    "calibrated_report = classification_report(y_test, y_hat_calb)\n",
    "print(calibrated_report)"
   ]
  },
  {
   "cell_type": "code",
   "execution_count": null,
   "id": "4dc9806f",
   "metadata": {},
   "outputs": [],
   "source": [
    "brier_score_loss(y_test, y_probs_calb)"
   ]
  },
  {
   "cell_type": "code",
   "execution_count": null,
   "id": "4e98f625",
   "metadata": {},
   "outputs": [],
   "source": [
    "log_loss(y_test, y_probs_calb)"
   ]
  },
  {
   "cell_type": "code",
   "execution_count": null,
   "id": "a17c2292",
   "metadata": {},
   "outputs": [],
   "source": [
    "balanced_accuracy_score(y_test, y_hat_calb)"
   ]
  },
  {
   "cell_type": "code",
   "execution_count": null,
   "id": "b1437b3f",
   "metadata": {},
   "outputs": [],
   "source": [
    "X_train, X_test, y_train, y_test = train_test_split(x, y, test_size=0.2)"
   ]
  },
  {
   "cell_type": "code",
   "execution_count": null,
   "id": "903ffa3c",
   "metadata": {},
   "outputs": [],
   "source": [
    "trainer = MPCATrainer(classifier='svc', n_features=None)\n",
    "trainer.fit(X_train, y_train)\n",
    "#cv_results = cross_validate(trainer, x, y, cv=10, scoring=[\"accuracy\", \"roc_auc\"], n_jobs=1)"
   ]
  },
  {
   "cell_type": "code",
   "execution_count": null,
   "id": "d2bc63d4",
   "metadata": {},
   "outputs": [],
   "source": [
    "#print(f\"Averaged test accuracy: {cv_results['test_accuracy'].mean()}\")\n",
    "#print(f\"Averaged test area under ROC curve: {cv_results['test_roc_auc'].mean()}\")"
   ]
  },
  {
   "cell_type": "code",
   "execution_count": null,
   "id": "99f26ab3",
   "metadata": {},
   "outputs": [],
   "source": [
    "y_probs = trainer.predict_proba(X_test)[:,1]"
   ]
  },
  {
   "cell_type": "code",
   "execution_count": null,
   "id": "daacd63d",
   "metadata": {},
   "outputs": [],
   "source": [
    "prob_true, prob_pred = calibration_curve(y_test, y_probs, n_bins=10, normalize=True)"
   ]
  },
  {
   "cell_type": "code",
   "execution_count": null,
   "id": "4734a24a",
   "metadata": {},
   "outputs": [],
   "source": [
    "fig, ax = plt.subplots()\n",
    "plt.plot(prob_pred, prob_true)\n",
    "line = mlines.Line2D([0, 1], [0, 1], color='black')\n",
    "ax.add_line(line)\n",
    "plt.grid()\n",
    "ax.set_xlabel(\"Probability of positives\")\n",
    "ax.set_ylabel(\"Fraction of positives\")\n",
    "fig.suptitle(\"Calibration curve for uncalibrated SVC for cMRI classification (MPCATrainer)\")"
   ]
  },
  {
   "cell_type": "code",
   "execution_count": null,
   "id": "8c84aaf3",
   "metadata": {},
   "outputs": [],
   "source": [
    "calibrated_trainer = MPCATrainer(classifier='svc', n_features=None)\n",
    "calibrated_trainer.fit(X_train, y_train)\n",
    "#cv_results = cross_validate(calibrated_trainer, X_train, y_train, cv=10, scoring=[\"accuracy\", \"roc_auc\"], n_jobs=1)\n",
    "\n",
    "y_probs = calibrated_trainer.predict_proba(X_test)[:, 1]"
   ]
  },
  {
   "cell_type": "code",
   "execution_count": null,
   "id": "1a8ce26f",
   "metadata": {},
   "outputs": [],
   "source": [
    "calibrated_trainer.x_transformed"
   ]
  },
  {
   "cell_type": "code",
   "execution_count": null,
   "id": "cb9da0f0",
   "metadata": {},
   "outputs": [],
   "source": [
    "cv_results"
   ]
  },
  {
   "cell_type": "code",
   "execution_count": null,
   "id": "35dac96d",
   "metadata": {},
   "outputs": [],
   "source": [
    "print(f\"Averaged test accuracy: {cv_results['test_accuracy'].mean()}\")\n",
    "print(f\"Averaged test area under ROC curve: {cv_results['test_roc_auc'].mean()}\")"
   ]
  },
  {
   "cell_type": "code",
   "execution_count": null,
   "id": "5478b4e6",
   "metadata": {},
   "outputs": [],
   "source": [
    "from sklearn.linear_model import LogisticRegression"
   ]
  },
  {
   "cell_type": "code",
   "execution_count": null,
   "id": "081e8e50",
   "metadata": {},
   "outputs": [],
   "source": [
    "class PlattScaling:\n",
    "    \n",
    "    def transform(self, y_probs, model, y_test):\n",
    "        self.lr = LogisticRegression()\n",
    "        self.lr.fit(model.x_transformed, y_test)\n",
    "        print(self.lr.coef_.shape)\n",
    "        output = np.multiply(y_probs, self.lr.coef_) + self.lr.intercept_\n",
    "        output = 1/(1 + np.exp(output))\n",
    "        \n",
    "        return output\n",
    "    \n",
    "    def calibrate(self, model, y_probs, y_test):\n",
    "        #self.coef = model.coef_[0]\n",
    "        #self.intercept = model.intercept_\n",
    "        y_probs_calibrated = self.transform(y_probs, model, y_test)\n",
    "        \n",
    "        return y_probs_calibrated\n",
    "    \n",
    "    def expected_error(self, prob_true, prob_pred, y_probs):\n",
    "        ese = np.sum(abs(prob_true - prob_pred) * ((len(prob_true) + 1) / len(y_probs)))\n",
    "        \n",
    "        return ese\n",
    "    \n",
    "    def calibration(self, y_test, model, y_probs):\n",
    "        y_probs_calibrated = self.transform(y_probs, model, y_test)\n",
    "        prob_true, prob_pred = calibration_curve(y_test, y_probs_calibrated, n_bins=10, normalize=True)\n",
    "        ese = self.expected_error(prob_true, prob_pred, y_probs)\n",
    "        \n",
    "        return prob_true, prob_pred, ese"
   ]
  },
  {
   "cell_type": "code",
   "execution_count": null,
   "id": "b2791aad",
   "metadata": {},
   "outputs": [],
   "source": [
    "platt = PlattScaling()"
   ]
  },
  {
   "cell_type": "code",
   "execution_count": null,
   "id": "8e634eaf",
   "metadata": {},
   "outputs": [],
   "source": [
    "# Here starts the best calibration that I could implement."
   ]
  },
  {
   "cell_type": "code",
   "execution_count": null,
   "id": "502224aa",
   "metadata": {},
   "outputs": [],
   "source": [
    "X_train, X_test, y_train, y_test = train_test_split(x, y, test_size=0.2, shuffle=True)\n",
    "X_train_sub, X_val, y_train_sub, y_val = train_test_split(X_train, y_train, stratify=y_train, shuffle=True)"
   ]
  },
  {
   "cell_type": "code",
   "execution_count": null,
   "id": "83dfdeda",
   "metadata": {},
   "outputs": [],
   "source": [
    "uncalibrated_trainer = MPCATrainer(classifier='svc', n_features=None)\n",
    "calibrated_trainer = MPCATrainer(classifier='svc', n_features=None)"
   ]
  },
  {
   "cell_type": "code",
   "execution_count": null,
   "id": "43f5e78f",
   "metadata": {},
   "outputs": [],
   "source": [
    "uncalibrated_trainer.fit(X_train, y_train)\n",
    "calibrated_trainer.fit(X_train_sub, y_train_sub)"
   ]
  },
  {
   "cell_type": "code",
   "execution_count": null,
   "id": "6586f223",
   "metadata": {},
   "outputs": [],
   "source": [
    "calibrated_trainer.clf = CalibratedClassifierCV(calibrated_trainer.clf, cv='prefit', method='sigmoid')\n",
    "calibrated_trainer.fit(X_val, y_val)"
   ]
  },
  {
   "cell_type": "code",
   "execution_count": null,
   "id": "83920a36",
   "metadata": {},
   "outputs": [],
   "source": [
    "y_probs_uncalb = uncalibrated_trainer.predict_proba(X_test)[:, 1]\n",
    "y_probs_calb = calibrated_trainer.predict_proba(X_test)[:, 1]"
   ]
  },
  {
   "cell_type": "code",
   "execution_count": null,
   "id": "1fbd91bf",
   "metadata": {},
   "outputs": [],
   "source": [
    "prob_true_uncalb, prob_pred_uncalb = calibration_curve(y_test, y_probs_uncalb, n_bins=10, normalize=True)\n",
    "prob_true_calb, prob_pred_calb = calibration_curve(y_test, y_probs_calb, n_bins=10, normalize=True)"
   ]
  },
  {
   "cell_type": "code",
   "execution_count": null,
   "id": "d90907cc",
   "metadata": {},
   "outputs": [],
   "source": [
    "ese_uncalb = platt.expected_error(prob_true_uncalb, prob_pred_uncalb, y_probs_uncalb)\n",
    "ese_calb = platt.expected_error(prob_true_calb, prob_pred_calb, y_probs_calb)"
   ]
  },
  {
   "cell_type": "code",
   "execution_count": null,
   "id": "376f7c1f",
   "metadata": {},
   "outputs": [],
   "source": [
    "fig, ax = plt.subplots(figsize=(15,15))\n",
    "plt.plot(prob_pred_uncalb, prob_true_uncalb, label=\"Uncalibrated\")\n",
    "plt.plot(prob_pred_calb, prob_true_calb, label=\"Calibrated\")\n",
    "line = mlines.Line2D([0, 1], [0, 1], color='black')\n",
    "ax.add_line(line)\n",
    "plt.grid()\n",
    "ax.set_xlabel(\"Probability of positives\")\n",
    "ax.set_ylabel(\"Fraction of positives\")\n",
    "ax.legend()\n",
    "plt.text(0.7,0.25, f\"Uncalibrated Expected error = {ese_uncalb:.3f}\")\n",
    "plt.text(0.7,0.2, f\"Calibrated Expected error = {ese_calb:.3f}\")\n",
    "fig.suptitle(\"Calibration curves for SVC (MPCATrainer)\", fontsize=14)\n",
    "fig.savefig(\"Calibrated vs uncalibrated\", format='jpg')"
   ]
  },
  {
   "cell_type": "code",
   "execution_count": null,
   "id": "78571468",
   "metadata": {},
   "outputs": [],
   "source": [
    "calibrated_trainer.x_transformed.shape"
   ]
  },
  {
   "cell_type": "code",
   "execution_count": null,
   "id": "56c74be6",
   "metadata": {},
   "outputs": [],
   "source": [
    "X_train, X_test, y_train, y_test = train_test_split(x, y, test_size=0.2, random_state=123)"
   ]
  },
  {
   "cell_type": "code",
   "execution_count": null,
   "id": "70469c5b",
   "metadata": {},
   "outputs": [],
   "source": [
    "expected_errors = []\n",
    "for i in range(1, 1001, 10):\n",
    "    trainer = MPCATrainer(classifier='svc', n_features=i)\n",
    "    trainer.fit(X_train, y_train)\n",
    "    y_probs = trainer.predict_proba(X_test)[:, 1]\n",
    "    \n",
    "    prob_true, prob_pred = calibration_curve(y_test, y_probs, n_bins=10, normalize=True)\n",
    "    ese = platt.expected_error(prob_true, prob_pred, y_probs)\n",
    "    \n",
    "    expected_errors.append(ese)\n",
    "    "
   ]
  },
  {
   "cell_type": "code",
   "execution_count": null,
   "id": "b39ded45",
   "metadata": {},
   "outputs": [],
   "source": [
    "domain = range(1, 1001, 10)\n",
    "fig, ax = plt.subplots(figsize=(13,15))\n",
    "plt.plot(domain, expected_errors)\n",
    "ax.grid()\n",
    "ax.set_xlabel(\"Number of selected features\")\n",
    "ax.set_ylabel(\"Expected Calibration Error\")\n",
    "fig.suptitle(\"Impact of number of selected features on reliability\", fontsize=14)\n",
    "plt.savefig(\"impact1\", format=\"jpg\")"
   ]
  },
  {
   "cell_type": "code",
   "execution_count": null,
   "id": "d5d57c9b",
   "metadata": {},
   "outputs": [],
   "source": [
    "index = expected_errors.index(min(expected_errors))"
   ]
  },
  {
   "cell_type": "code",
   "execution_count": null,
   "id": "78c9b33a",
   "metadata": {},
   "outputs": [],
   "source": [
    "index"
   ]
  },
  {
   "cell_type": "code",
   "execution_count": null,
   "id": "441de40c",
   "metadata": {},
   "outputs": [],
   "source": [
    "X_train, X_test, y_train, y_test = train_test_split(x, y, test_size=0.2, random_state=1)"
   ]
  },
  {
   "cell_type": "code",
   "execution_count": null,
   "id": "72f06305",
   "metadata": {},
   "outputs": [],
   "source": [
    "expected_errors = []\n",
    "for i in range(1, 1001, 10):\n",
    "    trainer = MPCATrainer(classifier='svc', n_features=i)\n",
    "    trainer.fit(X_train, y_train)\n",
    "    y_probs = trainer.predict_proba(X_test)[:, 1]\n",
    "    \n",
    "    prob_true, prob_pred = calibration_curve(y_test, y_probs, n_bins=10, normalize=True)\n",
    "    ese = platt.expected_error(prob_true, prob_pred, y_probs)\n",
    "    \n",
    "    expected_errors.append(ese)"
   ]
  },
  {
   "cell_type": "code",
   "execution_count": null,
   "id": "00a34cc7",
   "metadata": {},
   "outputs": [],
   "source": [
    "domain = range(1, 1001, 10)\n",
    "fig, ax = plt.subplots(figsize=(13,15))\n",
    "plt.plot(domain, expected_errors)\n",
    "ax.grid()\n",
    "ax.set_xlabel(\"Number of selected features\")\n",
    "ax.set_ylabel(\"Expected Calibration Error\")\n",
    "fig.suptitle(\"Impact of number of selected features on reliability\", fontsize=14)\n",
    "plt.savefig(\"impact2\", format=\"jpg\")"
   ]
  },
  {
   "cell_type": "code",
   "execution_count": null,
   "id": "68233f20",
   "metadata": {},
   "outputs": [],
   "source": [
    "index = expected_errors.index(min(expected_errors))"
   ]
  },
  {
   "cell_type": "code",
   "execution_count": null,
   "id": "81a9854b",
   "metadata": {},
   "outputs": [],
   "source": [
    "index"
   ]
  },
  {
   "cell_type": "code",
   "execution_count": null,
   "id": "091684a4",
   "metadata": {},
   "outputs": [],
   "source": [
    "y"
   ]
  },
  {
   "cell_type": "code",
   "execution_count": null,
   "id": "afe51bc9",
   "metadata": {},
   "outputs": [],
   "source": [
    "import seaborn as sns\n",
    "from collections import Counter"
   ]
  },
  {
   "cell_type": "code",
   "execution_count": null,
   "id": "79e96fca",
   "metadata": {},
   "outputs": [],
   "source": [
    "count = Counter(y)\n",
    "count"
   ]
  },
  {
   "cell_type": "code",
   "execution_count": null,
   "id": "81fa14b2",
   "metadata": {},
   "outputs": [],
   "source": [
    "sns.set(rc={'figure.figsize':(11.7,8.27)})\n",
    "sns.histplot(y)"
   ]
  },
  {
   "cell_type": "code",
   "execution_count": null,
   "id": "c1f190cd",
   "metadata": {},
   "outputs": [],
   "source": [
    "# imbalanced dataset, claimed also due to the poor performance of algorithm on classification of 0 class data"
   ]
  },
  {
   "cell_type": "code",
   "execution_count": null,
   "id": "a56b443b",
   "metadata": {},
   "outputs": [],
   "source": [
    "X_train, X_test, y_train, y_test = train_test_split(x, y, test_size=0.2, random_state=23)\n"
   ]
  },
  {
   "cell_type": "code",
   "execution_count": null,
   "id": "5db09e80",
   "metadata": {},
   "outputs": [],
   "source": [
    "uncalibrated_trainer = MPCATrainer(classifier='svc', n_features=300)\n",
    "calibrated_trainer = MPCATrainer(classifier='svc', n_features=300)\n",
    "calibrated_trainer.clf = CalibratedClassifierCV(calibrated_trainer.clf, cv=10, method='sigmoid')"
   ]
  },
  {
   "cell_type": "code",
   "execution_count": null,
   "id": "55e67c65",
   "metadata": {},
   "outputs": [],
   "source": [
    "uncalibrated_trainer.fit(X_train, y_train)\n",
    "calibrated_trainer.fit(X_train, y_train)"
   ]
  },
  {
   "cell_type": "code",
   "execution_count": null,
   "id": "31d8a255",
   "metadata": {},
   "outputs": [],
   "source": [
    "y_hat_uncalb = uncalibrated_trainer.predict(X_test)\n",
    "y_hat_calb = calibrated_trainer.predict(X_test)"
   ]
  },
  {
   "cell_type": "code",
   "execution_count": null,
   "id": "7fdb4b72",
   "metadata": {},
   "outputs": [],
   "source": [
    "y_uncalb_probs = uncalibrated_trainer.predict_proba(X_test)\n",
    "y_calb_probs = calibrated_trainer.predict_proba(X_test)"
   ]
  },
  {
   "cell_type": "code",
   "execution_count": null,
   "id": "3145a59d",
   "metadata": {},
   "outputs": [],
   "source": [
    "y_probs_uncalb = uncalibrated_trainer.predict_proba(X_test)[:, 1]\n",
    "y_probs_calb = calibrated_trainer.predict_proba(X_test)[:, 1]"
   ]
  },
  {
   "cell_type": "code",
   "execution_count": null,
   "id": "2f42c0cb",
   "metadata": {},
   "outputs": [],
   "source": [
    "print(classification_report(y_test, y_hat_uncalb))"
   ]
  },
  {
   "cell_type": "code",
   "execution_count": null,
   "id": "731bc7a0",
   "metadata": {},
   "outputs": [],
   "source": [
    "print(classification_report(y_test, y_hat_calb))"
   ]
  },
  {
   "cell_type": "code",
   "execution_count": null,
   "id": "16bc5d2a",
   "metadata": {},
   "outputs": [],
   "source": [
    "y_hat_uncalb"
   ]
  },
  {
   "cell_type": "code",
   "execution_count": null,
   "id": "f9a36741",
   "metadata": {},
   "outputs": [],
   "source": [
    "y_hat_calb"
   ]
  },
  {
   "cell_type": "code",
   "execution_count": null,
   "id": "24183315",
   "metadata": {},
   "outputs": [],
   "source": [
    "fig, ax = plt.subplots(figsize=(15,15))\n",
    "plt.plot(prob_pred_uncalb, prob_true_uncalb, label=\"Uncalibrated\")\n",
    "plt.plot(prob_pred_calb, prob_true_calb, label=\"Calibrated\")\n",
    "line = mlines.Line2D([0, 1], [0, 1], color='black')\n",
    "ax.add_line(line)\n",
    "plt.grid()\n",
    "ax.set_xlabel(\"Probability of positives\")\n",
    "ax.set_ylabel(\"Fraction of positives\")\n",
    "ax.legend()\n",
    "plt.text(0.7,0.25, f\"Uncalibrated Expected error = {ese_uncalb:.3f}\")\n",
    "plt.text(0.7,0.2, f\"Calibrated Expected error = {ese_calb:.3f}\")\n",
    "fig.suptitle(\"Calibration curves for SVC (MPCATrainer)\", fontsize=14)\n",
    "fig.savefig(\"Calibrated vs uncalibrated\", format='jpg')"
   ]
  },
  {
   "cell_type": "markdown",
   "id": "90c432a0",
   "metadata": {},
   "source": [
    "Hypothesis: Creating additional images through data augmentation of deficient class will increase the probabilistic estimation of an algorithm due to removal of the imbalanced characteristics of the dataset.\n"
   ]
  },
  {
   "cell_type": "code",
   "execution_count": null,
   "id": "2c6777c8",
   "metadata": {},
   "outputs": [],
   "source": [
    "x.shape"
   ]
  },
  {
   "cell_type": "code",
   "execution_count": null,
   "id": "0c90980d",
   "metadata": {},
   "outputs": [],
   "source": [
    "import torchvision.transforms as transforms\n",
    "from PIL import Image\n",
    "import cv2"
   ]
  },
  {
   "cell_type": "code",
   "execution_count": null,
   "id": "4892959f",
   "metadata": {},
   "outputs": [],
   "source": [
    "!pip install albumentations\n",
    "import albumentations as A"
   ]
  },
  {
   "cell_type": "code",
   "execution_count": null,
   "id": "cb850d8e",
   "metadata": {},
   "outputs": [],
   "source": [
    "plt.imshow(x[0][0])\n",
    "plt.show()"
   ]
  },
  {
   "cell_type": "markdown",
   "id": "2dab60cc",
   "metadata": {},
   "source": [
    "Now, some data augmentation is going to be implemented.\n"
   ]
  },
  {
   "cell_type": "code",
   "execution_count": null,
   "id": "b08079c2",
   "metadata": {},
   "outputs": [],
   "source": [
    "transform = A.Compose(\n",
    "    [\n",
    "        A.Rotate(limit=40, p=0.9, border_mode=cv2.BORDER_CONSTANT),\n",
    "        A.HorizontalFlip(p=0.5),\n",
    "        A.VerticalFlip(p=0.1)\n",
    "    ]\n",
    ")"
   ]
  },
  {
   "cell_type": "code",
   "execution_count": null,
   "id": "bffb6cef",
   "metadata": {},
   "outputs": [],
   "source": [
    "# Creating an array of synthesised images\n",
    "# Create a mechanism which would choose an index of image with label '0' so that augmented images would come from image of this class.\n",
    "augmented_images = 0\n",
    "img = []\n",
    "labels = []\n",
    "for k in range(50):\n",
    "    idx = np.where(y==0)[0][k]\n",
    "    image = X_train[idx][0]\n",
    "    images_list = [image]\n",
    "    label = y[idx]\n",
    "    for i in range(19):\n",
    "        augmentations = transform(image=image)\n",
    "        augmented_img = augmentations[\"image\"]\n",
    "        images_list.append(augmented_img)\n",
    "    labels.append(label)\n",
    "    img.append(images_list)\n",
    "augmented_images = np.array(img)"
   ]
  },
  {
   "cell_type": "code",
   "execution_count": null,
   "id": "f94ccd2b",
   "metadata": {},
   "outputs": [],
   "source": []
  },
  {
   "cell_type": "code",
   "execution_count": null,
   "id": "6a2f33fa",
   "metadata": {},
   "outputs": [],
   "source": [
    "augmented_images.shape, len(labels)"
   ]
  },
  {
   "cell_type": "code",
   "execution_count": null,
   "id": "31c4dd81",
   "metadata": {},
   "outputs": [],
   "source": [
    "plt.imshow(augmented_images[9][0])\n",
    "plt.show()"
   ]
  },
  {
   "cell_type": "code",
   "execution_count": null,
   "id": "b2ab2e7a",
   "metadata": {},
   "outputs": [],
   "source": [
    "y_aug = np.array(labels)"
   ]
  },
  {
   "cell_type": "code",
   "execution_count": null,
   "id": "9e3cc033",
   "metadata": {},
   "outputs": [],
   "source": [
    "y_aug"
   ]
  },
  {
   "cell_type": "code",
   "execution_count": null,
   "id": "87186432",
   "metadata": {},
   "outputs": [],
   "source": [
    "y_aug = y_aug.flatten()\n",
    "y_aug.shape"
   ]
  },
  {
   "cell_type": "code",
   "execution_count": null,
   "id": "c874edb3",
   "metadata": {},
   "outputs": [],
   "source": [
    "y_train.reshape((y_train.shape[0], 1))\n",
    "y_train.shape"
   ]
  },
  {
   "cell_type": "code",
   "execution_count": null,
   "id": "491bb8a1",
   "metadata": {},
   "outputs": [],
   "source": [
    "#for j in range(augmented_images.shape[0]):\n",
    "X_train_aug = np.concatenate((X_train, augmented_images), axis=0)\n",
    "y_train_aug = np.concatenate((y_train, y_aug), axis=0)"
   ]
  },
  {
   "cell_type": "code",
   "execution_count": null,
   "id": "fe496675",
   "metadata": {},
   "outputs": [],
   "source": [
    "X_train_aug.shape, y_train_aug.shape"
   ]
  },
  {
   "cell_type": "code",
   "execution_count": null,
   "id": "c6d2580c",
   "metadata": {},
   "outputs": [],
   "source": [
    "augmented_images.shape"
   ]
  },
  {
   "cell_type": "code",
   "execution_count": null,
   "id": "8e8876b1",
   "metadata": {},
   "outputs": [],
   "source": [
    "def expected_calibration_error(y_predicted: np.ndarray, y_probs: np.ndarray, y_test: np.ndarray, n_bins=10) -> float:\n",
    "    n = y_test.shape[0]\n",
    "    \n",
    "    if y_test.ndim > 1:\n",
    "        y_test = np.argmax(y_test)\n",
    "    y_pred_idx = np.argmax(y_predicted)\n",
    "    acc = np.zeros(n_bins) \n",
    "    conf = np.zeros(n_bins)\n",
    "    Bm = np.zeros(n_bins)\n",
    "    \n",
    "    for m in range(n_bins):\n",
    "        a = m / n_bins\n",
    "        b = (m+1) / n_bins\n",
    "        for i in range(n):\n",
    "            if y_predicted[i] > a and y_predicted[i] <= b:\n",
    "                Bm[m] += 1\n",
    "                if y_predicted[i] == y_test[i]:\n",
    "                    acc[m] += 1\n",
    "                conf[m] += y_probs[i]\n",
    "        if Bm[m] != 0:\n",
    "            acc[m] = acc[m] / Bm[m]\n",
    "            conf[m] = conf[m] / Bm[m]\n",
    "    \n",
    "    epsilon = 0\n",
    "    for m in range(n_bins):\n",
    "        epsilon += Bm[m] * np.abs((acc[m] - conf[m]))\n",
    "    return epsilon / np.sum(Bm[m])    \n",
    "   \n",
    "    "
   ]
  },
  {
   "cell_type": "code",
   "execution_count": null,
   "id": "250833f2",
   "metadata": {},
   "outputs": [],
   "source": [
    "uncalibrated_report = classification_report(y_test, y_hat_uncalb)\n",
    "print(uncalibrated_report)"
   ]
  },
  {
   "cell_type": "code",
   "execution_count": null,
   "id": "fea99d75",
   "metadata": {},
   "outputs": [],
   "source": [
    "calibrated_report = classification_report(y_test, y_hat_calb)\n",
    "print(calibrated_report)"
   ]
  },
  {
   "cell_type": "code",
   "execution_count": null,
   "id": "001a2f63",
   "metadata": {},
   "outputs": [],
   "source": [
    "expected_calibration_error(y_hat_calb, y_calb_probs[:, 1], y_test), expected_calibration_error(y_hat_calb, y_uncalb_probs[:, 1], y_test)"
   ]
  },
  {
   "cell_type": "markdown",
   "id": "fbd43f7d",
   "metadata": {},
   "source": [
    "This implementation of expected calibration error is much better and accurate. Although there are still cases of data shuffling data calibation will not help (or even make the error large than for uncalibrated trainer. However, it's still worth doing that."
   ]
  },
  {
   "cell_type": "code",
   "execution_count": null,
   "id": "a443689f",
   "metadata": {},
   "outputs": [],
   "source": [
    "brier_score_loss(y_test, y_calb_probs[:, 0]), brier_score_loss(y_test, y_uncalb_probs[:, 0])"
   ]
  },
  {
   "cell_type": "code",
   "execution_count": null,
   "id": "674efd88",
   "metadata": {},
   "outputs": [],
   "source": [
    "brier_score_loss(y_test, y_calb_probs[:, 1]), brier_score_loss(y_test, y_uncalb_probs[:, 1])"
   ]
  },
  {
   "cell_type": "code",
   "execution_count": null,
   "id": "d98b7e6d",
   "metadata": {},
   "outputs": [],
   "source": [
    "uncalibrated_trainer = MPCATrainer(classifier='svc', n_features=300)\n",
    "calibrated_trainer = MPCATrainer(classifier='svc', n_features=300)\n",
    "calibrated_trainer.clf = CalibratedClassifierCV(calibrated_trainer.clf, cv=10, method='sigmoid')"
   ]
  },
  {
   "cell_type": "code",
   "execution_count": null,
   "id": "3b4e84bc",
   "metadata": {},
   "outputs": [],
   "source": [
    "uncalibrated_trainer.fit(X_train_aug, y_train_aug)\n",
    "calibrated_trainer.fit(X_train_aug, y_train_aug)"
   ]
  },
  {
   "cell_type": "code",
   "execution_count": null,
   "id": "85027e96",
   "metadata": {},
   "outputs": [],
   "source": [
    "y_hat_uncalb = uncalibrated_trainer.predict(X_test)\n",
    "y_hat_calb = calibrated_trainer.predict(X_test)"
   ]
  },
  {
   "cell_type": "code",
   "execution_count": null,
   "id": "7187d37a",
   "metadata": {},
   "outputs": [],
   "source": [
    "y_uncalb_probs = uncalibrated_trainer.predict_proba(X_test)\n",
    "y_calb_probs = calibrated_trainer.predict_proba(X_test)"
   ]
  },
  {
   "cell_type": "code",
   "execution_count": null,
   "id": "9336cea5",
   "metadata": {},
   "outputs": [],
   "source": [
    "print(classification_report(y_test, y_hat_calb))"
   ]
  },
  {
   "cell_type": "code",
   "execution_count": null,
   "id": "36e27bc6",
   "metadata": {},
   "outputs": [],
   "source": [
    "print(classification_report(y_test, y_hat_uncalb))"
   ]
  },
  {
   "cell_type": "code",
   "execution_count": null,
   "id": "40f3d2ba",
   "metadata": {},
   "outputs": [],
   "source": [
    "expected_calibration_error(y_hat_calb, y_calb_probs[:, 1], y_test), expected_calibration_error(y_hat_calb, y_uncalb_probs[:, 1], y_test)"
   ]
  },
  {
   "cell_type": "code",
   "execution_count": null,
   "id": "fab94529",
   "metadata": {},
   "outputs": [],
   "source": [
    "brier_score_loss(y_test, y_calb_probs[:, 0]), brier_score_loss(y_test, y_uncalb_probs[:, 0])"
   ]
  },
  {
   "cell_type": "code",
   "execution_count": null,
   "id": "0a750a39",
   "metadata": {},
   "outputs": [],
   "source": [
    "brier_score_loss(y_test, y_calb_probs[:, 1]), brier_score_loss(y_test, y_uncalb_probs[:, 1])"
   ]
  },
  {
   "cell_type": "code",
   "execution_count": null,
   "id": "8047ce8c",
   "metadata": {},
   "outputs": [],
   "source": []
  },
  {
   "cell_type": "code",
   "execution_count": null,
   "id": "e81dde46",
   "metadata": {},
   "outputs": [],
   "source": [
    "expected_errors = []\n",
    "accuracies = []\n",
    "for i in range(1, 1001, 10):\n",
    "    trainer = MPCATrainer(classifier='svc', n_features=i)\n",
    "    trainer.fit(X_train, y_train)\n",
    "    y_hat = trainer.predict(X_test)\n",
    "    y_probs = trainer.predict_proba(X_test)[:, 1]\n",
    "    \n",
    "    prob_true, prob_pred = calibration_curve(y_test, y_probs, n_bins=10, normalize=True)\n",
    "    ese = expected_calibration_error(y_hat, y_probs, y_test)\n",
    "    acc = balanced_accuracy_score(y_test, y_hat)\n",
    "    \n",
    "    accuracies.append(acc)\n",
    "    expected_errors.append(ese)"
   ]
  },
  {
   "cell_type": "code",
   "execution_count": null,
   "id": "d323be87",
   "metadata": {},
   "outputs": [],
   "source": [
    "domain = range(1, 1001, 10)\n",
    "fig, ax = plt.subplots(figsize=(13,15))\n",
    "plt.plot(domain, expected_errors)\n",
    "ax.grid()\n",
    "ax.set_xlabel(\"Number of selected features\")\n",
    "ax.set_ylabel(\"Expected Calibration Error\")\n",
    "fig.suptitle(\"Impact of number of selected features on reliability\", fontsize=14)"
   ]
  },
  {
   "cell_type": "code",
   "execution_count": null,
   "id": "fd36fa94",
   "metadata": {},
   "outputs": [],
   "source": [
    "domain = range(1, 1001, 10)\n",
    "fig, ax = plt.subplots(figsize=(13,15))\n",
    "plt.plot(domain, accuracies)\n",
    "ax.grid()\n",
    "ax.set_xlabel(\"Number of selected features\")\n",
    "ax.set_ylabel(\"Accuracy of an uncalibrated trainer\")\n",
    "fig.suptitle(\"Impact of number of selected features on reliability\", fontsize=14)"
   ]
  },
  {
   "cell_type": "code",
   "execution_count": null,
   "id": "8c313a7e",
   "metadata": {},
   "outputs": [],
   "source": [
    "expected_errors[17], accuracies[17]"
   ]
  },
  {
   "cell_type": "code",
   "execution_count": null,
   "id": "69332ab4",
   "metadata": {},
   "outputs": [],
   "source": [
    "accuracies"
   ]
  },
  {
   "cell_type": "code",
   "execution_count": null,
   "id": "0ac6c1f7",
   "metadata": {},
   "outputs": [],
   "source": []
  },
  {
   "cell_type": "code",
   "execution_count": null,
   "id": "afacf235",
   "metadata": {},
   "outputs": [],
   "source": []
  }
 ],
 "metadata": {
  "kernelspec": {
   "display_name": "Python 3",
   "language": "python",
   "name": "python3"
  },
  "language_info": {
   "codemirror_mode": {
    "name": "ipython",
    "version": 3
   },
   "file_extension": ".py",
   "mimetype": "text/x-python",
   "name": "python",
   "nbconvert_exporter": "python",
   "pygments_lexer": "ipython3",
   "version": "3.8.8"
  }
 },
 "nbformat": 4,
 "nbformat_minor": 5
}
